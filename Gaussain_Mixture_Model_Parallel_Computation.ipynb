{
  "nbformat": 4,
  "nbformat_minor": 0,
  "metadata": {
    "colab": {
      "private_outputs": true,
      "provenance": [],
      "gpuType": "T4"
    },
    "kernelspec": {
      "name": "python3",
      "display_name": "Python 3"
    },
    "language_info": {
      "name": "python"
    },
    "accelerator": "GPU"
  },
  "cells": [
    {
      "cell_type": "markdown",
      "source": [
        "\n",
        "\n",
        "# *Gaussian Mixture Model*\n",
        "## *Problem*<br>\n",
        "The problem involves implementing the Expectation-Maximization (EM) algorithm for a Gaussian Mixture Model (GMM) on a dataset of 2D points. The goal is to cluster the data points into a specified number of components (clusters) based on their similarity.<br>\n",
        "###*Approach*<br>\n",
        "*Non-Parallelized Code*  :<br> Implement the EM algorithm for GMM in a sequential manner. This involves iterating between the E-step (assigning data points to clusters) and the M-step (updating cluster parameters) until convergence.\n",
        "<br>\n",
        "*Parallelized Code*  :<br> Utilize CUDA to parallelize the E-step and M-step of the EM algorithm. This will involve parallelizing the computation of responsibilities and updating of cluster parameters using CUDA kernels."
      ],
      "metadata": {
        "id": "BNWr6_6KmjGu"
      }
    },
    {
      "cell_type": "code",
      "source": [
        "!nvidia-smi"
      ],
      "metadata": {
        "id": "nCyDEZzFQHam"
      },
      "execution_count": null,
      "outputs": []
    },
    {
      "cell_type": "code",
      "execution_count": null,
      "metadata": {
        "id": "F9YjE75qKWqE"
      },
      "outputs": [],
      "source": [
        "!nvcc --version"
      ]
    },
    {
      "cell_type": "code",
      "source": [
        "!git clone https://github.com/NVIDIA/cuda-samples.git"
      ],
      "metadata": {
        "id": "fLAbQkLUPkEU"
      },
      "execution_count": null,
      "outputs": []
    },
    {
      "cell_type": "code",
      "source": [
        "!cd cuda-samples/Samples/1_Utilities/deviceQuery && make\n"
      ],
      "metadata": {
        "id": "B3EUu36vQQVc"
      },
      "execution_count": null,
      "outputs": []
    },
    {
      "cell_type": "code",
      "source": [
        "!cd cuda-samples/Samples/1_Utilities/deviceQuery && ls\n",
        "!cuda-samples/Samples/1_Utilities/deviceQuery/./deviceQuery"
      ],
      "metadata": {
        "id": "oSYH_oRqQl8r"
      },
      "execution_count": null,
      "outputs": []
    },
    {
      "cell_type": "markdown",
      "source": [
        "## nvcc for Jupyter notebook"
      ],
      "metadata": {
        "id": "3ziDtLTyLArg"
      }
    },
    {
      "cell_type": "code",
      "source": [
        "!pip install nvcc4jupyter"
      ],
      "metadata": {
        "id": "-G6_2BDjK4r8"
      },
      "execution_count": null,
      "outputs": []
    },
    {
      "cell_type": "code",
      "source": [
        "%load_ext nvcc4jupyter"
      ],
      "metadata": {
        "id": "nYLqxQsBLKKg"
      },
      "execution_count": null,
      "outputs": []
    },
    {
      "cell_type": "markdown",
      "source": [
        "# Non - Parallel"
      ],
      "metadata": {
        "id": "-GMFVKIn9NeE"
      }
    },
    {
      "cell_type": "code",
      "source": [
        "%%time\n",
        "%%cuda\n",
        "#include <iostream>\n",
        "#include <vector>\n",
        "#include <cmath>\n",
        "#include <random>\n",
        "#include <iostream>\n",
        "#include <vector>\n",
        "#include <cmath>\n",
        "#include <random>\n",
        "#include <iostream>\n",
        "#include <vector>\n",
        "#include <cmath>\n",
        "#include <random>\n",
        "#include <fstream>\n",
        "\n",
        "\n",
        "class Point {\n",
        "public:\n",
        "    double x, y;\n",
        "\n",
        "    Point(double x, double y) : x(x), y(y) {}\n",
        "};\n",
        "\n",
        "// Function to compute the Gaussian probability density function for a 2D point\n",
        "double gaussian(const Point& point, const Point& mean, double std_dev) {\n",
        "    double square_diff_x = pow(point.x - mean.x, 2);\n",
        "    double square_diff_y = pow(point.y - mean.y, 2);\n",
        "    return exp(-0.5 * (square_diff_x + square_diff_y) / (std_dev * std_dev)) / (std_dev * sqrt(2 * M_PI));\n",
        "}\n",
        "\n",
        "// Function to perform the E-step of the GMM algorithm for 2D points\n",
        "void eStep(const std::vector<Point>& data_points, const std::vector<Point>& means,\n",
        "            const std::vector<double>& std_devs, const std::vector<double>& weights,\n",
        "            std::vector<std::vector<double>>& responsibilities, std::vector<int>& cluster_assignments) {\n",
        "    int num_points = data_points.size();\n",
        "    int num_components = means.size();\n",
        "\n",
        "    for (int i = 0; i < num_points; ++i) {\n",
        "        double sum = 0.0;\n",
        "        int max_index = -1;\n",
        "        double max_responsibility = -1;\n",
        "\n",
        "        for (int k = 0; k < num_components; ++k) {\n",
        "            responsibilities[i][k] = weights[k] * gaussian(data_points[i], means[k], std_devs[k]);\n",
        "            sum += responsibilities[i][k];\n",
        "\n",
        "            if (responsibilities[i][k] > max_responsibility) {\n",
        "                max_responsibility = responsibilities[i][k];\n",
        "                max_index = k;\n",
        "            }\n",
        "        }\n",
        "\n",
        "        for (int k = 0; k < num_components; ++k) {\n",
        "            responsibilities[i][k] /= sum;\n",
        "        }\n",
        "\n",
        "        cluster_assignments[i] = max_index;\n",
        "    }\n",
        "}\n",
        "\n",
        "// Function to perform the M-step of the GMM algorithm for 2D points\n",
        "void mStep(const std::vector<Point>& data_points, const std::vector<std::vector<double>>& responsibilities,\n",
        "            std::vector<Point>& means, std::vector<double>& std_devs, std::vector<double>& weights) {\n",
        "    int num_points = data_points.size();\n",
        "    int num_components = means.size();\n",
        "\n",
        "    for (int k = 0; k < num_components; ++k) {\n",
        "        double sum_responsibilities = 0.0;\n",
        "        double sum_x_responsibilities = 0.0;\n",
        "        double sum_y_responsibilities = 0.0;\n",
        "        double sum_x_squared_responsibilities = 0.0;\n",
        "        double sum_y_squared_responsibilities = 0.0;\n",
        "\n",
        "        for (int i = 0; i < num_points; ++i) {\n",
        "            sum_responsibilities += responsibilities[i][k];\n",
        "            sum_x_responsibilities += responsibilities[i][k] * data_points[i].x;\n",
        "            sum_y_responsibilities += responsibilities[i][k] * data_points[i].y;\n",
        "            sum_x_squared_responsibilities += responsibilities[i][k] * pow(data_points[i].x, 2);\n",
        "            sum_y_squared_responsibilities += responsibilities[i][k] * pow(data_points[i].y, 2);\n",
        "        }\n",
        "\n",
        "        means[k].x = sum_x_responsibilities / sum_responsibilities;\n",
        "        means[k].y = sum_y_responsibilities / sum_responsibilities;\n",
        "        std_devs[k] = sqrt(sum_x_squared_responsibilities / sum_responsibilities - pow(sum_x_responsibilities / sum_responsibilities, 2) + std::numeric_limits<double>::epsilon());\n",
        "        weights[k] = sum_responsibilities / num_points;\n",
        "    }\n",
        "}\n",
        "\n",
        "int main() {\n",
        "    // Initialize empty data points vector\n",
        "    std::vector<Point> data_points;\n",
        "\n",
        "    // Open the input file\n",
        "    std::ifstream inputFile(\"/content/file (3) (1).txt\");\n",
        "\n",
        "    // Check if the file is open\n",
        "    if (inputFile.is_open()) {\n",
        "        // Read the data points from the file\n",
        "        double x, y;\n",
        "        while (inputFile >> x >> y) {\n",
        "            data_points.push_back(Point(x, y));\n",
        "        }\n",
        "        inputFile.close();\n",
        "    } else {\n",
        "        std::cerr << \"Unable to open file\" << std::endl;\n",
        "        return 1;\n",
        "    }\n",
        "\n",
        "    std::vector<int> cluster_assignments(data_points.size(), -1);\n",
        "    // Initialize means, standard deviations, and weights\n",
        "    std::vector<Point> means = {Point(-1.490, -0.670), Point(-1.90, 1.50), Point(-0.230, 2.10)};\n",
        "    std::vector<double> std_devs = {3.6, 3.2, 3.9};\n",
        "    std::vector<double> weights = {0.3, 0.3, 0.3};\n",
        "\n",
        "    // Initialize responsibilities matrix\n",
        "    std::vector<std::vector<double>> responsibilities(data_points.size(), std::vector<double>(means.size(), 0.0));\n",
        "\n",
        "    // Perform E-step and M-step iteratively\n",
        "    for (int iter = 0; iter < 10; ++iter) {\n",
        "eStep(data_points, means, std_devs, weights, responsibilities, cluster_assignments);\n",
        "        mStep(data_points, responsibilities, means, std_devs, weights);\n",
        "    }\n",
        "    // Output the updated means, standard deviations, and weights\n",
        "    for (int k = 0; k < means.size(); ++k) {\n",
        "        std::cout << \"Component \" << k << \" - Mean: (\" << means[k].x << \", \" << means[k].y <<\n",
        "                     \"), Std Dev: \" << std_devs[k] << \", Weight: \" << weights[k] << std::endl;\n",
        "    }\n",
        "    for (int i = 0; i < data_points.size(); ++i) {\n",
        "    std::cout << \"Data Point (\" << data_points[i].x << \", \" << data_points[i].y << \") - Cluster: \" << cluster_assignments[i] << std::endl;\n",
        "}\n",
        "\n",
        "    return 0;\n",
        "}\n",
        "\n"
      ],
      "metadata": {
        "id": "XRMi-iDe9INv"
      },
      "execution_count": null,
      "outputs": []
    },
    {
      "cell_type": "markdown",
      "source": [
        "# Parallel"
      ],
      "metadata": {
        "id": "F7iFzh8-9VXJ"
      }
    },
    {
      "cell_type": "code",
      "source": [
        "%%time\n",
        "%%cuda\n",
        "#include <iostream>\n",
        "#include <vector>\n",
        "#include <cmath>\n",
        "#include <random>\n",
        "#include <fstream>\n",
        "#include <cuda_runtime.h>\n",
        "\n",
        "\n",
        "class Point {\n",
        "public:\n",
        "    double x, y;\n",
        "\n",
        "    Point(double x, double y) : x(x), y(y) {}\n",
        "};\n",
        "\n",
        "__device__ double gaussian(const Point& point, const Point& mean, double std_dev) {\n",
        "    double square_diff_x = pow(point.x - mean.x, 2);\n",
        "    double square_diff_y = pow(point.y - mean.y, 2);\n",
        "    return exp(-0.5 * (square_diff_x + square_diff_y) / (std_dev * std_dev)) / (std_dev * sqrt(2 * M_PI));\n",
        "}\n",
        "\n",
        "__global__ void eStepKernel(const Point* data_points, const Point* means,\n",
        "                            const double* std_devs, const double* weights,\n",
        "                            double* responsibilities, int* cluster_assignments,\n",
        "                            int num_points, int num_components) {\n",
        "    int tid = threadIdx.x + blockIdx.x * blockDim.x;\n",
        "\n",
        "    if (tid < num_points) {\n",
        "        double sum = 0.0;\n",
        "        int max_index = -1;\n",
        "        double max_responsibility = -1;\n",
        "\n",
        "        for (int k = 0; k < num_components; ++k) {\n",
        "            double res = weights[k] * gaussian(data_points[tid], means[k], std_devs[k]);\n",
        "            responsibilities[tid * num_components + k] = res;\n",
        "            sum += res;\n",
        "\n",
        "            if (res > max_responsibility) {\n",
        "                max_responsibility = res;\n",
        "                max_index = k;\n",
        "            }\n",
        "        }\n",
        "\n",
        "        for (int k = 0; k < num_components; ++k) {\n",
        "            responsibilities[tid * num_components + k] /= sum;\n",
        "        }\n",
        "\n",
        "        cluster_assignments[tid] = max_index;\n",
        "    }\n",
        "}\n",
        "\n",
        "void eStep(const std::vector<Point>& data_points, const std::vector<Point>& means,\n",
        "           const std::vector<double>& std_devs, const std::vector<double>& weights,\n",
        "           std::vector<double>& responsibilities, std::vector<int>& cluster_assignments) {\n",
        "    int num_points = data_points.size();\n",
        "    int num_components = means.size();\n",
        "\n",
        "    // Allocate device memory\n",
        "    Point* d_data_points;\n",
        "    Point* d_means;\n",
        "    double* d_std_devs;\n",
        "    double* d_weights;\n",
        "    double* d_responsibilities;\n",
        "    int* d_cluster_assignments;\n",
        "\n",
        "    cudaMalloc(&d_data_points, num_points * sizeof(Point));\n",
        "    cudaMalloc(&d_means, num_components * sizeof(Point));\n",
        "    cudaMalloc(&d_std_devs, num_components * sizeof(double));\n",
        "    cudaMalloc(&d_weights, num_components * sizeof(double));\n",
        "    cudaMalloc(&d_responsibilities, num_points * num_components * sizeof(double));\n",
        "    cudaMalloc(&d_cluster_assignments, num_points * sizeof(int));\n",
        "\n",
        "    // Copy data from host to device\n",
        "    cudaMemcpy(d_data_points, data_points.data(), num_points * sizeof(Point), cudaMemcpyHostToDevice);\n",
        "    cudaMemcpy(d_means, means.data(), num_components * sizeof(Point), cudaMemcpyHostToDevice);\n",
        "    cudaMemcpy(d_std_devs, std_devs.data(), num_components * sizeof(double), cudaMemcpyHostToDevice);\n",
        "    cudaMemcpy(d_weights, weights.data(), num_components * sizeof(double), cudaMemcpyHostToDevice);\n",
        "\n",
        "    // Launch kernel\n",
        "    int blockSize = 256;\n",
        "    int numBlocks = (num_points + blockSize - 1) / blockSize;\n",
        "    eStepKernel<<<numBlocks, blockSize>>>(d_data_points, d_means, d_std_devs, d_weights,\n",
        "                                           d_responsibilities, d_cluster_assignments,\n",
        "                                           num_points, num_components);\n",
        "\n",
        "    // Copy results back to host\n",
        "    cudaMemcpy(responsibilities.data(), d_responsibilities, num_points * num_components * sizeof(double), cudaMemcpyDeviceToHost);\n",
        "    cudaMemcpy(cluster_assignments.data(), d_cluster_assignments, num_points * sizeof(int), cudaMemcpyDeviceToHost);\n",
        "\n",
        "    // Free device memory\n",
        "    cudaFree(d_data_points);\n",
        "    cudaFree(d_means);\n",
        "    cudaFree(d_std_devs);\n",
        "    cudaFree(d_weights);\n",
        "    cudaFree(d_responsibilities);\n",
        "    cudaFree(d_cluster_assignments);\n",
        "}\n",
        "\n",
        "__global__ void mStepKernel(const Point* data_points, const double* responsibilities,\n",
        "                            int num_points, int num_components,\n",
        "                            Point* means, double* std_devs, double* weights) {\n",
        "    int k = threadIdx.x + blockIdx.x * blockDim.x;\n",
        "\n",
        "    if (k < num_components) {\n",
        "        double sum_responsibilities = 0.0;\n",
        "        double sum_x_responsibilities = 0.0;\n",
        "        double sum_y_responsibilities = 0.0;\n",
        "        double sum_x_squared_responsibilities = 0.0;\n",
        "        double sum_y_squared_responsibilities = 0.0;\n",
        "\n",
        "        for (int i = 0; i < num_points; ++i) {\n",
        "            double resp = responsibilities[i * num_components + k];\n",
        "            sum_responsibilities += resp;\n",
        "            sum_x_responsibilities += resp * data_points[i].x;\n",
        "            sum_y_responsibilities += resp * data_points[i].y;\n",
        "            sum_x_squared_responsibilities += resp * pow(data_points[i].x, 2);\n",
        "            sum_y_squared_responsibilities += resp * pow(data_points[i].y, 2);\n",
        "        }\n",
        "\n",
        "        means[k].x = sum_x_responsibilities / sum_responsibilities;\n",
        "        means[k].y = sum_y_responsibilities / sum_responsibilities;\n",
        "        std_devs[k] = sqrt(sum_x_squared_responsibilities / sum_responsibilities - pow(sum_x_responsibilities / sum_responsibilities, 2));\n",
        "        weights[k] = sum_responsibilities / num_points;\n",
        "    }\n",
        "}\n",
        "\n",
        "void mStep(const std::vector<Point>& data_points, const std::vector<double>& responsibilities,\n",
        "          std::vector<Point>& means, std::vector<double>& std_devs, std::vector<double>& weights) {\n",
        "    int num_points = data_points.size();\n",
        "    int num_components = means.size();\n",
        "\n",
        "    // Allocate device memory\n",
        "    Point* d_data_points;\n",
        "    double* d_responsibilities;\n",
        "    Point* d_means;\n",
        "    double* d_std_devs;\n",
        "    double* d_weights;\n",
        "\n",
        "    cudaMalloc(&d_data_points, num_points * sizeof(Point));\n",
        "    cudaMalloc(&d_responsibilities, num_points * num_components * sizeof(double));\n",
        "    cudaMalloc(&d_means, num_components * sizeof(Point));\n",
        "    cudaMalloc(&d_std_devs, num_components * sizeof(double));\n",
        "    cudaMalloc(&d_weights, num_components * sizeof(double));\n",
        "\n",
        "    // Copy data from host to device\n",
        "    cudaMemcpy(d_data_points, data_points.data(), num_points * sizeof(Point), cudaMemcpyHostToDevice);\n",
        "    cudaMemcpy(d_responsibilities, responsibilities.data(), num_points * num_components * sizeof(double), cudaMemcpyHostToDevice);\n",
        "    cudaMemcpy(d_means, means.data(), num_components * sizeof(Point), cudaMemcpyHostToDevice);\n",
        "    cudaMemcpy(d_std_devs, std_devs.data(), num_components * sizeof(double), cudaMemcpyHostToDevice);\n",
        "    cudaMemcpy(d_weights, weights.data(), num_components * sizeof(double), cudaMemcpyHostToDevice);\n",
        "\n",
        "    // Launch kernel\n",
        "    int blockSize = 256;\n",
        "    int numBlocks = (num_components + blockSize - 1) / blockSize;\n",
        "    mStepKernel<<<numBlocks, blockSize>>>(d_data_points, d_responsibilities,\n",
        "                                           num_points, num_components,\n",
        "                                           d_means, d_std_devs, d_weights);\n",
        "\n",
        "    // Copy results back to host\n",
        "    cudaMemcpy(means.data(), d_means, num_components * sizeof(Point), cudaMemcpyDeviceToHost);\n",
        "    cudaMemcpy(std_devs.data(), d_std_devs, num_components * sizeof(double), cudaMemcpyDeviceToHost);\n",
        "    cudaMemcpy(weights.data(), d_weights, num_components * sizeof(double), cudaMemcpyDeviceToHost);\n",
        "\n",
        "    // Free device memory\n",
        "    cudaFree(d_data_points);\n",
        "    cudaFree(d_responsibilities);\n",
        "    cudaFree(d_means);\n",
        "    cudaFree(d_std_devs);\n",
        "    cudaFree(d_weights);\n",
        "}\n",
        "\n",
        "int main() {\n",
        "    // Initialize empty data points vector\n",
        "    std::vector<Point> data_points;\n",
        "\n",
        "    // Open the input file\n",
        "    std::ifstream inputFile(\"/content/file (3) (1).txt\");\n",
        "\n",
        "    // Check if the file is open\n",
        "    if (inputFile.is_open()) {\n",
        "        // Read the data points from the file\n",
        "        double x, y;\n",
        "        while (inputFile >> x >> y) {\n",
        "            data_points.push_back(Point(x, y));\n",
        "        }\n",
        "        inputFile.close();\n",
        "    } else {\n",
        "        std::cerr << \"Unable to open file\" << std::endl;\n",
        "        return 1;\n",
        "    }\n",
        "\n",
        "    // Initialize means, standard deviations, and weights\n",
        "    std::vector<Point> means = {Point(-1.490, -0.670), Point(-1.90, 1.50), Point(-0.230, 2.10)};\n",
        "    std::vector<double> std_devs = {3.6, 3.2, 3.9};\n",
        "    std::vector<double> weights = {0.3, 0.3, 0.3};\n",
        "\n",
        "    // Initialize responsibilities vector\n",
        "    std::vector<double> responsibilities(data_points.size() * means.size(), 0.0);\n",
        "    std::vector<int> cluster_assignments(data_points.size(), -1);\n",
        "\n",
        "    // Perform E-step and M-step iteratively\n",
        "    for (int iter = 0; iter < 10; ++iter) {\n",
        "        eStep(data_points, means, std_devs, weights, responsibilities, cluster_assignments);\n",
        "        mStep(data_points, responsibilities, means, std_devs, weights);\n",
        "    }\n",
        "\n",
        "    // Output the updated means, standard deviations, and weights\n",
        "    for (int k = 0; k < means.size(); ++k) {\n",
        "        std::cout << \"Component \" << k << \" - Mean: (\" << means[k].x << \", \" << means[k].y <<\n",
        "                     \"), Std Dev: \" << std_devs[k] << \", Weight: \" << weights[k] << std::endl;\n",
        "    }\n",
        "    for (int i = 0; i < data_points.size(); ++i) {\n",
        "        std::cout << \"Data Point (\" << data_points[i].x << \", \" << data_points[i].y << \") - Cluster: \" << cluster_assignments[i] << std::endl;\n",
        "    }\n",
        "\n",
        "    return 0;\n",
        "}\n"
      ],
      "metadata": {
        "id": "6SmXAzsrke2P"
      },
      "execution_count": null,
      "outputs": []
    },
    {
      "cell_type": "markdown",
      "source": [
        "Time Taken with Parallization : <br>\n",
        "CPU times: user 2.1 s, sys: 188 ms, total: 2.29 s\n",
        "Wall time: 5.3 s\n",
        "<br>\n",
        "\n",
        "Time Taken without Parallization : <br>\n",
        "CPU times: user 2.86 s, sys: 209 ms, total: 3.06 s\n",
        "Wall time: 6.01 s\n"
      ],
      "metadata": {
        "id": "zOSmNSNdl1fE"
      }
    },
    {
      "cell_type": "markdown",
      "source": [
        "# Metrics"
      ],
      "metadata": {
        "id": "_AT8ZG3o1kWa"
      }
    },
    {
      "cell_type": "markdown",
      "source": [
        "**Performance Metrics:** <br>\n",
        "*The performance metrics are calculated for a dataset of 1000 points with 3 clusters.*\n",
        " <br>\n",
        "**Speedup**:<br>\n",
        "*Speedup = (Running time of non-parallelized code) / (Running time of parallelized code)*<br>\n",
        "**Parallel Efficiency:**<br>\n",
        "*Parallel Efficiency = (Speedup / Number of processing elements) * 100%*"
      ],
      "metadata": {
        "id": "A2Ssm-4JoO7a"
      }
    },
    {
      "cell_type": "markdown",
      "source": [
        "**Speedup:**<br>\n",
        "Running time of non-parallelized code = **3.06s** <br>\n",
        "Running time of parallelized code = **2.29s** <br>\n",
        "**Speedup = (3.06/2.29) = 1.33**"
      ],
      "metadata": {
        "id": "_rVK1Dz2pTpT"
      }
    },
    {
      "cell_type": "markdown",
      "source": [
        "**Parallel Efficiency :**<br>\n",
        "Speedup : 1.33<br>\n",
        "Number of processing elemnets : blocksize * Numberblocks\n",
        "\n",
        "**E-Step** : <br>\n",
        "blocksize = 256 ; numBlocks ~ 5<br>\n",
        "Number of Processing elements ~ 1280.0<br>\n",
        "Parallel Efficiency (E-Step) : (1.33/1255.0)*100% = 0.1039<br>\n",
        "<br>\n",
        "**M-Step** :<br>\n",
        "blocksize = 256 ; numBlocks ~ 2<br>\n",
        "Number of Processing elements ~ 512.0<br>\n",
        "Parallel Efficiency (M-Step) : (1.33/512.0)*100% = 0.259<br>\n"
      ],
      "metadata": {
        "id": "9s9y2M_2q2j7"
      }
    },
    {
      "cell_type": "markdown",
      "source": [
        "# TIME TAKEN"
      ],
      "metadata": {
        "id": "Rl-BV_Tz1fOE"
      }
    },
    {
      "cell_type": "markdown",
      "source": [
        "Parallel Code:<br>\n",
        "100000 :<br> CPU times: user 4.23 s, sys: 294 ms, total: 4.52 s\n",
        "Wall time: 10.1 s\n",
        "\n",
        "10000:<br> CPU times: user 2.1 s, sys: 188 ms, total: 2.29 s Wall time: 5.3 s\n",
        "\n",
        "1000: <br>CPU times: user 307 ms, sys: 29.5 ms, total: 336 ms\n",
        "Wall time: 3.13 s\n"
      ],
      "metadata": {
        "id": "Pc-WLGYCy6mu"
      }
    },
    {
      "cell_type": "markdown",
      "source": [
        "Non-Parallel Code:<br>\n",
        "100000 :<br> CPU times: user 7.59 s, sys: 601 ms, total: 8.2 s\n",
        "Wall time: 11.7 s\n",
        "\n",
        "10000:<br> CPU times: user 2.86 s, sys: 209 ms, total: 3.06 s\n",
        "Wall time: 6.01 s\n",
        "\n",
        "1000: <br>CPU times: user 204 ms, sys: 34.5 ms, total: 239 ms\n",
        "Wall time: 2.62 s\n"
      ],
      "metadata": {
        "id": "b7HJE7Dhzl00"
      }
    },
    {
      "cell_type": "markdown",
      "source": [
        "* N=100000 Speedup = 8.2/4.52 = 1.814\n",
        "* N=10000 Speedup = 3.06/2.29 = 1.336\n",
        "* N=1000 Speedup = 0.295/0.345 = 0.826\n",
        "\n",
        "\n",
        "\n"
      ],
      "metadata": {
        "id": "8w5z8l6L2MWH"
      }
    },
    {
      "cell_type": "code",
      "source": [
        "import matplotlib.pyplot as plt\n",
        "N = [1000,10000,100000]\n",
        "speedup = [0.826,1.336,1.814]\n",
        "plt.title('N vs Speedup')\n",
        "plt.plot(N,speedup)\n",
        "plt.xlabel(\"N\")\n",
        "plt.ylabel(\"Speedup\")\n",
        "plt.show()"
      ],
      "metadata": {
        "id": "na3J-kwwzj9a"
      },
      "execution_count": null,
      "outputs": []
    },
    {
      "cell_type": "markdown",
      "source": [
        "![image.png](data:image/png;base64,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)"
      ],
      "metadata": {
        "id": "uI_8ditm-t38"
      }
    },
    {
      "cell_type": "markdown",
      "source": [
        "*Processing elements*: 3 <br>CPU times: user 2.22 s, sys: 191 ms, total: 2.42 s\n",
        "Wall time: 6.31 s\n",
        "\n",
        "*Processing elements* : 10 <br>\n",
        "CPU times: user 290 ms, sys: 22.4 ms, total: 312 ms\n",
        "Wall time: 3.67 s\n",
        "\n",
        "*Processing elements*: 20 <br>\n",
        "CPU times: user 2.03 s, sys: 183 ms, total: 2.21 s\n",
        "Wall time: 5.29 s"
      ],
      "metadata": {
        "id": "9jM8Ece07vu_"
      }
    },
    {
      "cell_type": "code",
      "source": [],
      "metadata": {
        "id": "ifckwbiQ7Hr7"
      },
      "execution_count": null,
      "outputs": []
    }
  ]
}